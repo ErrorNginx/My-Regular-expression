{
  "nbformat": 4,
  "nbformat_minor": 0,
  "metadata": {
    "colab": {
      "provenance": [],
      "authorship_tag": "ABX9TyNX9FXtEIFeNbu07MSdeXAt",
      "include_colab_link": true
    },
    "kernelspec": {
      "name": "python3",
      "display_name": "Python 3"
    },
    "language_info": {
      "name": "python"
    }
  },
  "cells": [
    {
      "cell_type": "markdown",
      "metadata": {
        "id": "view-in-github",
        "colab_type": "text"
      },
      "source": [
        "<a href=\"https://colab.research.google.com/github/ErrorNginx/My-Regular-expression/blob/main/validation%20phone%20number%20use%20pandas%20/%20validation_phone_number_use_pandas.ipynb\" target=\"_parent\"><img src=\"https://colab.research.google.com/assets/colab-badge.svg\" alt=\"Open In Colab\"/></a>"
      ]
    },
    {
      "cell_type": "code",
      "execution_count": 1,
      "metadata": {
        "colab": {
          "base_uri": "https://localhost:8080/"
        },
        "id": "iUu0wT50G-Dg",
        "outputId": "ce7bf947-8ef5-4706-bf53-adb0737fd116"
      },
      "outputs": [
        {
          "output_type": "stream",
          "name": "stdout",
          "text": [
            "     phone_number  valid\n",
            "0  +6281234567890   True\n",
            "1    081234567891   True\n",
            "2     08123456789   True\n",
            "3      0812345678   True\n"
          ]
        }
      ],
      "source": [
        "import re\n",
        "import pandas as pd\n",
        "\n",
        "def validate_phone(number):\n",
        "    pattern = re.compile(r\"^(\\+62|0)[0-9]{2}-?[0-9]{7,11}$\")\n",
        "    if re.match(pattern, number):\n",
        "        return True\n",
        "    return False\n",
        "\n",
        "df = pd.DataFrame({'phone_number': ['+6281234567890', '081234567891', '08123456789', '0812345678']})\n",
        "df['valid'] = df['phone_number'].apply(validate_phone)\n",
        "print(df)\n"
      ]
    }
  ]
}