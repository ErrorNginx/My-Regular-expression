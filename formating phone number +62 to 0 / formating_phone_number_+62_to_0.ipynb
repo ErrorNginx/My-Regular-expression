{
  "nbformat": 4,
  "nbformat_minor": 0,
  "metadata": {
    "colab": {
      "provenance": [],
      "authorship_tag": "ABX9TyPIEu2L6pzvuDw0EoahCVdK",
      "include_colab_link": true
    },
    "kernelspec": {
      "name": "python3",
      "display_name": "Python 3"
    },
    "language_info": {
      "name": "python"
    }
  },
  "cells": [
    {
      "cell_type": "markdown",
      "metadata": {
        "id": "view-in-github",
        "colab_type": "text"
      },
      "source": [
        "<a href=\"https://colab.research.google.com/github/ErrorNginx/My-Regular-expression/blob/main/formating%20phone%20number%20%2B62%20to%200%20/%20formating_phone_number_%2B62_to_0.ipynb\" target=\"_parent\"><img src=\"https://colab.research.google.com/assets/colab-badge.svg\" alt=\"Open In Colab\"/></a>"
      ]
    },
    {
      "cell_type": "code",
      "execution_count": null,
      "metadata": {
        "id": "PgA4-CktSyhG"
      },
      "outputs": [],
      "source": [
        "import pandas as pd\n",
        "import re\n",
        "\n",
        "# Create a sample data frame with phone numbers\n",
        "df = pd.DataFrame({'Phone': ['+62212345678', '+62287654321', '+62298765432']})\n",
        "\n",
        "# Function to remove +62 from phone number\n",
        "def remove_62(phone):\n",
        "    return re.sub(r'\\+62', '0', phone)\n",
        "\n",
        "# Apply the function to the Phone column\n",
        "df['Phone'] = df['Phone'].apply(remove_62)\n",
        "\n",
        "# Show the result\n",
        "print(df)\n"
      ]
    }
  ]
}